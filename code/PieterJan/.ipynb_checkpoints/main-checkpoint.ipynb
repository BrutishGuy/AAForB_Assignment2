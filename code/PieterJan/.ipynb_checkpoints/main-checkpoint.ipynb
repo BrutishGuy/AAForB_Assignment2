{
 "cells": [
  {
   "cell_type": "code",
   "execution_count": 24,
   "metadata": {},
   "outputs": [
    {
     "name": "stdout",
     "output_type": "stream",
     "text": [
      "The autoreload extension is already loaded. To reload it, use:\n",
      "  %reload_ext autoreload\n"
     ]
    }
   ],
   "source": [
    "# auto reload libraries (you do need to re-import libraries if you make changes)\n",
    "%load_ext autoreload\n",
    "%autoreload 2\n",
    "\n",
    "# base \n",
    "import pandas as pd\n",
    "import numpy as np\n",
    "from pprint import pprint\n",
    "\n",
    "# preprocessing \n",
    "from sklearn.pipeline import Pipeline\n",
    "from sklearn.experimental import enable_iterative_imputer \n",
    "from sklearn.impute import SimpleImputer, IterativeImputer,KNNImputer\n",
    "from sklearn.preprocessing import StandardScaler, OneHotEncoder, RobustScaler\n",
    "from sklearn.compose import ColumnTransformer\n",
    "from sklearn.model_selection import RandomizedSearchCV\n",
    "from sklearn.metrics import make_scorer\n",
    "from sklearn.compose import TransformedTargetRegressor\n",
    "from sklearn.preprocessing import PowerTransformer\n",
    "from sklearn.decomposition import TruncatedSVD\n",
    "\n",
    "\n",
    "# models\n",
    "from sklearn.ensemble import RandomForestRegressor\n",
    "from sklearn.ensemble import GradientBoostingRegressor\n",
    "\n",
    "# own defined functions/classes \n",
    "from preprocessing.preprocess_pipe import MakeLowerCase\n",
    "from preprocessing.preprocess_pipe import HdResolutionCategorizer\n",
    "from preprocessing.preprocess_pipe import StorageCategorizer\n",
    "from preprocessing.preprocess_pipe import SsdCategorizer\n",
    "\n",
    "from preprocessing.preprocess_pipe import print_missing\n",
    "from preprocessing.preprocess_pipe import calculate_perf\n",
    "from preprocessing.preprocess_pipe import custom_scoring_func\n"
   ]
  },
  {
   "cell_type": "code",
   "execution_count": 25,
   "metadata": {},
   "outputs": [
    {
     "name": "stdout",
     "output_type": "stream",
     "text": [
      "C:\\Users\\Pieter-Jan\\Documents\\KuLeuven\\Semester2\\AA\\AAForB_Assignment2\n"
     ]
    }
   ],
   "source": [
    "# global parameters\n",
    "pd.set_option('display.max_columns', 500)\n",
    "\n",
    "# set working directory\n",
    "uppath = lambda _path, n: os.sep.join(_path.split(os.sep)[:-n])\n",
    "__file__ = 'C:\\\\Users\\\\Pieter-Jan\\\\Documents\\\\KuLeuven\\\\Semester2\\\\AA\\\\AAForB_Assignment2\\\\code\\\\notebooks_PieterJan'\n",
    "out = uppath(__file__, 2)\n",
    "os.chdir(out)\n",
    "print(os.getcwd())"
   ]
  },
  {
   "cell_type": "markdown",
   "metadata": {},
   "source": [
    "## TODO\n",
    "\n",
    "### PLEASE DEFINE FUNCTIONS IN SEPERATE FILES TO KEEP THE NOTEBOOK CLEAN\n",
    "\n",
    "- Add custum scoring metric: **DONE**\n",
    "- further integrate preprocessing steps from Arnaud **DONE**\n",
    "- Integerate steps from Victor **Partly DONE**\n",
    "- Look at comments of Victor for next steps\n",
    "- Look at feature engineering ideas\n",
    "- Integrate steps from Bram \n",
    "- Integrate custum scoring metric (also when performing the cross validation/grid search) **DONE**\n",
    "- Make function that checkts whether prediction of the maximum price are >= predictions of the minimum price\n",
    "- Investigate why there is such a huge difference between the performance on 'our test set' and the performance of submission test set\n",
    "- Make function that saves trained models\n",
    "- Try out other models (Boosting, Support Vector Machines, Penalized Linear models like lasso, stacked models ...)\n",
    "- Implement better missing values imputations methods **DONE**\n",
    "- Add some post processing visualizations:\n",
    "    - feature importance plots\n",
    "    - look at our predictions visually (do they make sense?)\n",
    "    - look at the residuals\n",
    "    - Have a look at this especially section 5 for model interpretability ideas\n",
    "    https://christophm.github.io/interpretable-ml-book/pdp.html\n"
   ]
  },
  {
   "cell_type": "markdown",
   "metadata": {},
   "source": [
    "# Step 1: import data and split in train and validation set\n",
    "The validation set is more our own kind of test set"
   ]
  },
  {
   "cell_type": "code",
   "execution_count": 26,
   "metadata": {},
   "outputs": [
    {
     "name": "stdout",
     "output_type": "stream",
     "text": [
      "Dimensions of all training data (510, 22)\n",
      "Dimension test data (222, 20)\n"
     ]
    }
   ],
   "source": [
    "# read in trainig and validation data\n",
    "# use the same data split as we did in R\n",
    "df_all_train = pd.read_csv(\"data\\\\train.csv\", sep=',')\n",
    "df_test = pd.read_csv(\"data\\\\test.csv\", sep=',')\n",
    "\n",
    "print(f'Dimensions of all training data {df_all_train.shape}')\n",
    "print(f'Dimension test data {df_test.shape}')"
   ]
  },
  {
   "cell_type": "code",
   "execution_count": 27,
   "metadata": {},
   "outputs": [],
   "source": [
    "# split in training and validation set\n",
    "df_train = df_all_train.sample(frac=0.75, random_state=0, replace=False)\n",
    "df_val = df_all_train.drop(df_train.index)\n",
    "\n",
    "# reset index, if you don't resit missing rows get inserted in the pipeline\n",
    "# see: https://stackoverflow.com/questions/31323499/sklearn-error-valueerror-input-contains-nan-infinity-or-a-value-too-large-for\n",
    "df_train = df_train.reset_index().drop('index',axis=1)\n",
    "df_val = df_val.reset_index().drop('index',axis=1)"
   ]
  },
  {
   "cell_type": "markdown",
   "metadata": {},
   "source": [
    "# Step 2: define pipeline\n",
    "\n",
    "The pipeline should handle all steps performed on the data from data cleaning till the acutal model prediction. \n",
    "It should also be fairly easily to apply this to the test data. Therefore we make use of the scikit learn pipeline which allows all of this functionality. You can also implement your own `custom` transformations.\n",
    "\n",
    "For more information on how to use and why using pipelines see:\n",
    " - https://medium.com/vickdata/a-simple-guide-to-scikit-learn-pipelines-4ac0d974bdcf \n",
    " - scikit learn api on pipelines: https://scikit-learn.org/stable/modules/compose.html\n",
    " - Scikit learn api for more preprocessing steps: https://scikit-learn.org/stable/modules/preprocessing.html#non-linear-transformation\n",
    "\n",
    "We make a difference between the pre processing steps for\n",
    "- numerical features\n",
    "- categorical features\n",
    "\n",
    "It's important to note that if a feature is in the numerical feature pipeline it can't be in the categorical feature pipeline. Also if some preprocessing steps in the numerical feature pipeline need features from the categorical pipeline you will get an error. All preprocessing steps in each pipeline should be able to perform the transformation only with the categorical or numerical features. \n",
    "\n",
    "You can implement some custom transformation steps like 'MakeLowerCase' ==> see preprocessing.preprocess_pipe for more details or check this article  these two article (also gives some explanation on how to implement pipelines)\n",
    "\n",
    "- https://gist.github.com/amberjrivera/8c5c145516f5a2e894681e16a8095b5c"
   ]
  },
  {
   "cell_type": "code",
   "execution_count": 28,
   "metadata": {},
   "outputs": [],
   "source": [
    "#Numerical features to pass down the numerical pipeline \n",
    "numerical_features = ['screen_size' ,'pixels_x','pixels_y',\n",
    "                      'ram', 'weight','ssd','storage']\n",
    "\n",
    "#Categrical features to pass down the categorical pipeline \n",
    "categorical_features = ['brand','base_name', 'screen_surface','touchscreen',\n",
    "                        'cpu','cpu_details','detachable_keyboard',\n",
    "                        'discrete_gpu','gpu', 'os','os_details']\n",
    "\n",
    "# define all unique features\n",
    "features = np.unique(numerical_features).tolist() + np.unique(categorical_features).tolist()\n",
    "\n",
    "# target variables\n",
    "target = ['min_price','max_price']"
   ]
  },
  {
   "cell_type": "code",
   "execution_count": 29,
   "metadata": {},
   "outputs": [],
   "source": [
    "# train\n",
    "X_train = df_train[features]\n",
    "y_train = df_train[target]\n",
    "\n",
    "# validation (this is kind our own test set)\n",
    "X_val  = df_val[features]\n",
    "y_val = df_val[target]\n",
    "\n",
    "# train_validation (this is all training data we have) for fitting the model\n",
    "X_all_train = df_all_train[features]\n",
    "y_all_train = df_all_train[target]\n",
    "\n",
    "# test\n",
    "X_test = df_test[features]"
   ]
  },
  {
   "cell_type": "code",
   "execution_count": 30,
   "metadata": {},
   "outputs": [],
   "source": [
    "# you can add many more and \n",
    "# you can even define custom preprocessing steps like 'MakeLowerCase()'\n",
    "\n",
    "# pipeline  uses only numerical features,\n",
    "numeric_transformer = Pipeline(steps=[\n",
    "    #('imputer', SimpleImputer(missing_values=np.nan, strategy='mean')),\n",
    "    #('imputer', KNNImputer(n_neighbors=5, weights='uniform',metric='nan_euclidean')),\n",
    "    ('imputer', IterativeImputer(missing_values=np.nan, random_state=0, n_nearest_features=None, sample_posterior=True)),\n",
    "    #('transformation', PowerTransformer(method='yeo-johnson',standardize=False)),\n",
    "     #Scale features using statistics that are robust to outliers.\n",
    "    ('scaler', RobustScaler(with_centering=True, with_scaling=True, quantile_range=(10.0, 90.0)))]) \n",
    "\n",
    "# pipeline use only categorical features\n",
    "categorical_transformer = Pipeline(steps=[ \n",
    "    ('lowercase', MakeLowerCase()), # lower cases all columns containing strings\n",
    "    #('sd_category' ,SsdCategorizer(drop_original_feature=True)),\n",
    "    #('storage_category', StorageCategorizer(drop_original_feature=True)),\n",
    "    ('imputer', SimpleImputer(missing_values=np.nan, strategy=\"most_frequent\")),\n",
    "    ('onehot', OneHotEncoder(handle_unknown='ignore'))])\n",
    "\n",
    "# add both preprocessing pipelines in one pipeline\n",
    "preprocessor = ColumnTransformer(\n",
    "    transformers=[\n",
    "        ('num', numeric_transformer, numerical_features),\n",
    "        ('cat', categorical_transformer, categorical_features)])"
   ]
  },
  {
   "cell_type": "code",
   "execution_count": 31,
   "metadata": {},
   "outputs": [
    {
     "data": {
      "text/plain": [
       "(382, 1)"
      ]
     },
     "execution_count": 31,
     "metadata": {},
     "output_type": "execute_result"
    }
   ],
   "source": [
    "# this is how the preporcessed pipeline looks like (just to have an idea)\n",
    "pd.DataFrame(preprocessor.fit_transform(X_train)).shape"
   ]
  },
  {
   "cell_type": "markdown",
   "metadata": {},
   "source": [
    "# Step 3: add models to pipeline\n",
    "## 1) Random Forest\n",
    "Possible to fit multiple target variabels, so you **don't** need to fit a different models for min. price and max. price\n",
    "\n",
    "### A) Training and parameter tuning"
   ]
  },
  {
   "cell_type": "code",
   "execution_count": 32,
   "metadata": {},
   "outputs": [
    {
     "name": "stdout",
     "output_type": "stream",
     "text": [
      "Parameters currently in use:\n",
      "\n",
      "{'bootstrap': True,\n",
      " 'ccp_alpha': 0.0,\n",
      " 'criterion': 'mae',\n",
      " 'max_depth': None,\n",
      " 'max_features': 'auto',\n",
      " 'max_leaf_nodes': None,\n",
      " 'max_samples': None,\n",
      " 'min_impurity_decrease': 0.0,\n",
      " 'min_impurity_split': None,\n",
      " 'min_samples_leaf': 1,\n",
      " 'min_samples_split': 2,\n",
      " 'min_weight_fraction_leaf': 0.0,\n",
      " 'n_estimators': 100,\n",
      " 'n_jobs': None,\n",
      " 'oob_score': False,\n",
      " 'random_state': 1,\n",
      " 'verbose': 0,\n",
      " 'warm_start': False}\n"
     ]
    }
   ],
   "source": [
    "# define model: I just add some default parameters but you could\n",
    "# also just write: RandomForestRegressor() since we will perform a grid search \n",
    "# to find good hyperparameter values\n",
    "model_rf = RandomForestRegressor(random_state=1, criterion='mae')\n",
    "\n",
    "# Look at parameters used by our current forest\n",
    "print('Parameters currently in use:\\n')\n",
    "pprint(model_rf.get_params())\n",
    "\n",
    "# add to pipeline\n",
    "pipeline_rf = Pipeline(memory=None,\n",
    "              steps=[('preprocessor', preprocessor),\n",
    "                     ('regressor', model_rf)])\n",
    "\n",
    "\n",
    "# add transformation on the target variable, by default power transformation \n",
    "# also performs standardization after performing the power transformation\n",
    "# and back transform to the original space when outputting predictions \n",
    "transformer_target = PowerTransformer(method='yeo-johnson',standardize=True)\n",
    "pipeline_rf_update = TransformedTargetRegressor(regressor=pipeline_rf, \n",
    "                                         transformer=transformer_target)"
   ]
  },
  {
   "cell_type": "code",
   "execution_count": 85,
   "metadata": {},
   "outputs": [
    {
     "data": {
      "text/plain": [
       "{'check_inverse',\n",
       " 'func',\n",
       " 'inverse_func',\n",
       " 'regressor',\n",
       " 'regressor__memory',\n",
       " 'regressor__preprocessor',\n",
       " 'regressor__preprocessor__cat',\n",
       " 'regressor__preprocessor__cat__imputer',\n",
       " 'regressor__preprocessor__cat__imputer__add_indicator',\n",
       " 'regressor__preprocessor__cat__imputer__copy',\n",
       " 'regressor__preprocessor__cat__imputer__fill_value',\n",
       " 'regressor__preprocessor__cat__imputer__missing_values',\n",
       " 'regressor__preprocessor__cat__imputer__strategy',\n",
       " 'regressor__preprocessor__cat__imputer__verbose',\n",
       " 'regressor__preprocessor__cat__lowercase',\n",
       " 'regressor__preprocessor__cat__memory',\n",
       " 'regressor__preprocessor__cat__onehot',\n",
       " 'regressor__preprocessor__cat__onehot__categories',\n",
       " 'regressor__preprocessor__cat__onehot__drop',\n",
       " 'regressor__preprocessor__cat__onehot__dtype',\n",
       " 'regressor__preprocessor__cat__onehot__handle_unknown',\n",
       " 'regressor__preprocessor__cat__onehot__sparse',\n",
       " 'regressor__preprocessor__cat__steps',\n",
       " 'regressor__preprocessor__cat__verbose',\n",
       " 'regressor__preprocessor__n_jobs',\n",
       " 'regressor__preprocessor__num',\n",
       " 'regressor__preprocessor__num__imputer',\n",
       " 'regressor__preprocessor__num__imputer__add_indicator',\n",
       " 'regressor__preprocessor__num__imputer__estimator',\n",
       " 'regressor__preprocessor__num__imputer__imputation_order',\n",
       " 'regressor__preprocessor__num__imputer__initial_strategy',\n",
       " 'regressor__preprocessor__num__imputer__max_iter',\n",
       " 'regressor__preprocessor__num__imputer__max_value',\n",
       " 'regressor__preprocessor__num__imputer__min_value',\n",
       " 'regressor__preprocessor__num__imputer__missing_values',\n",
       " 'regressor__preprocessor__num__imputer__n_nearest_features',\n",
       " 'regressor__preprocessor__num__imputer__random_state',\n",
       " 'regressor__preprocessor__num__imputer__sample_posterior',\n",
       " 'regressor__preprocessor__num__imputer__skip_complete',\n",
       " 'regressor__preprocessor__num__imputer__tol',\n",
       " 'regressor__preprocessor__num__imputer__verbose',\n",
       " 'regressor__preprocessor__num__memory',\n",
       " 'regressor__preprocessor__num__scaler',\n",
       " 'regressor__preprocessor__num__scaler__copy',\n",
       " 'regressor__preprocessor__num__scaler__quantile_range',\n",
       " 'regressor__preprocessor__num__scaler__with_centering',\n",
       " 'regressor__preprocessor__num__scaler__with_scaling',\n",
       " 'regressor__preprocessor__num__steps',\n",
       " 'regressor__preprocessor__num__verbose',\n",
       " 'regressor__preprocessor__remainder',\n",
       " 'regressor__preprocessor__sparse_threshold',\n",
       " 'regressor__preprocessor__transformer_weights',\n",
       " 'regressor__preprocessor__transformers',\n",
       " 'regressor__preprocessor__verbose',\n",
       " 'regressor__regressor',\n",
       " 'regressor__regressor__bootstrap',\n",
       " 'regressor__regressor__ccp_alpha',\n",
       " 'regressor__regressor__criterion',\n",
       " 'regressor__regressor__max_depth',\n",
       " 'regressor__regressor__max_features',\n",
       " 'regressor__regressor__max_leaf_nodes',\n",
       " 'regressor__regressor__max_samples',\n",
       " 'regressor__regressor__min_impurity_decrease',\n",
       " 'regressor__regressor__min_impurity_split',\n",
       " 'regressor__regressor__min_samples_leaf',\n",
       " 'regressor__regressor__min_samples_split',\n",
       " 'regressor__regressor__min_weight_fraction_leaf',\n",
       " 'regressor__regressor__n_estimators',\n",
       " 'regressor__regressor__n_jobs',\n",
       " 'regressor__regressor__oob_score',\n",
       " 'regressor__regressor__random_state',\n",
       " 'regressor__regressor__verbose',\n",
       " 'regressor__regressor__warm_start',\n",
       " 'regressor__steps',\n",
       " 'regressor__verbose',\n",
       " 'transformer',\n",
       " 'transformer__copy',\n",
       " 'transformer__method',\n",
       " 'transformer__standardize'}"
      ]
     },
     "execution_count": 85,
     "metadata": {},
     "output_type": "execute_result"
    }
   ],
   "source": [
    "set(pipeline_rf_update.get_params().keys())"
   ]
  },
  {
   "cell_type": "code",
   "execution_count": 84,
   "metadata": {},
   "outputs": [],
   "source": [
    "# Number of trees in random forest\n",
    "n_estimators = [int(x) for x in np.linspace(start = 500, stop = 4000, num = 20)]\n",
    "\n",
    "# The number of features to consider when looking for the best split:\n",
    "# - If “auto”, then max_features=n_features.\n",
    "# - If “sqrt”, then max_features=sqrt(n_features).\n",
    "# - If “log2”, then max_features=log2(n_features).\n",
    "# - If None, then max_features=n_features\n",
    "max_features = ['auto', 'sqrt','log2',None]\n",
    "\n",
    "# Maximum number of levels in tree\n",
    "max_depth = [int(x) for x in np.linspace(20, 200, num = 20)]\n",
    "max_depth.append(None)\n",
    "\n",
    "# The function to measure the quality of a split\n",
    "criterion = ['mse','mae']\n",
    "\n",
    "# Minimum number of samples required to split a node\n",
    "# - If int, then consider min_samples_split as the minimum number.\n",
    "# - If float, then min_samples_split is a fraction and ceil(min_samples_split * n_samples) are the minimum number of samples for each split.\n",
    "min_samples_split = [0.001, 0.01, 0.025, 0.05]\n",
    "# Minimum number of samples required at each leaf node\n",
    "\n",
    "# - If int, then consider min_samples_leaf as the minimum number.\n",
    "# - If float, then min_samples_leaf is a fraction and ceil(min_samples_leaf * n_samples) are the minimum number of samples for each node.\n",
    "min_samples_leaf = [0.001, 0.01, 0.025, 0.05,]\n",
    "\n",
    "# Create the random grid\n",
    "random_grid_rf = {\n",
    "   'regressor__regressor__n_estimators': n_estimators,\n",
    "   'regressor__regressor__max_features': max_features,\n",
    "   'regressor__regressor__max_depth': max_depth,\n",
    "   'regressor__regressor__criterion': criterion,\n",
    "   'regressor__regressor__min_samples_split': min_samples_split,\n",
    "   'regressor__regressor__min_samples_leaf': min_samples_leaf}"
   ]
  },
  {
   "cell_type": "markdown",
   "metadata": {},
   "source": [
    "#### Helpful articles:\n",
    " - custom scoring metric: https://stackoverflow.com/questions/48468115/how-to-create-a-customized-scoring-function-in-scikit-learn-for-scoring-a-set-of\n",
    " - random parameter search: https://towardsdatascience.com/hyperparameter-tuning-the-random-forest-in-python-using-scikit-learn-28d2aa77dd74\n",
    "you can also use the traditional grid search in pyhton, but I prefer the randomizedSearch\n",
    " - Once the optimal parameters are found for the model, you don't need to run this again"
   ]
  },
  {
   "cell_type": "code",
   "execution_count": 101,
   "metadata": {},
   "outputs": [],
   "source": [
    "def weights_samples(df=None, order=1, plot_weights=False):\n",
    "\n",
    "    if order=0:\n",
    "        # return equal weights\n",
    "        return np.ones(len(df))/len(df)\n",
    "    \n",
    "    weights = (df**order)/sum(df**order)\n",
    "    if plot_weights:\n",
    "        # visualize weights\n",
    "        weights.plot()\n",
    "    # check if sum is 1\n",
    "    print(f\"Sum weights: {round(weights.sum(),4)}\")\n",
    "    return weights"
   ]
  },
  {
   "cell_type": "code",
   "execution_count": 130,
   "metadata": {},
   "outputs": [
    {
     "data": {
      "text/plain": [
       "0.002617801047120419"
      ]
     },
     "execution_count": 130,
     "metadata": {},
     "output_type": "execute_result"
    }
   ],
   "source": [
    "/len(y_train.iloc[:,1])"
   ]
  },
  {
   "cell_type": "code",
   "execution_count": 119,
   "metadata": {},
   "outputs": [
    {
     "name": "stdout",
     "output_type": "stream",
     "text": [
      "Sum weights: 1.0\n",
      "0    0.000445\n",
      "1    0.004303\n",
      "2    0.013612\n",
      "3    0.000002\n",
      "4    0.000002\n",
      "Name: max_price, dtype: float64\n",
      "   min_price  max_price\n",
      "0     849.99     849.99\n",
      "1    1382.99    1498.97\n",
      "2    1999.11    1999.11\n",
      "3     179.68     214.99\n",
      "4     199.99     214.90\n"
     ]
    },
    {
     "data": {
      "image/png": "[encoded data removed]",
      "text/plain": [
       "<Figure size 432x288 with 1 Axes>"
      ]
     },
     "metadata": {
      "needs_background": "light"
     },
     "output_type": "display_data"
    }
   ],
   "source": [
    "weights_train = weights_samples(df=y_train.iloc[:,1], order=4, plot_weights=True)\n",
    "print(weights_train.head())\n",
    "print(y_train.head())"
   ]
  },
  {
   "cell_type": "code",
   "execution_count": 102,
   "metadata": {},
   "outputs": [
    {
     "name": "stdout",
     "output_type": "stream",
     "text": [
      "Sum weights: 1.0\n"
     ]
    },
    {
     "data": {
      "image/png": "[encoded data removed]",
      "text/plain": [
       "<Figure size 432x288 with 1 Axes>"
      ]
     },
     "metadata": {
      "needs_background": "light"
     },
     "output_type": "display_data"
    }
   ],
   "source": [
    "weights_train = weights_samples(y_train.iloc[:,1], order=2, plot_weights=True)"
   ]
  },
  {
   "cell_type": "code",
   "execution_count": 94,
   "metadata": {},
   "outputs": [
    {
     "name": "stdout",
     "output_type": "stream",
     "text": [
      "Fitting 10 folds for each of 10 candidates, totalling 100 fits\n"
     ]
    },
    {
     "name": "stderr",
     "output_type": "stream",
     "text": [
      "[Parallel(n_jobs=-1)]: Using backend LokyBackend with 4 concurrent workers.\n",
      "[Parallel(n_jobs=-1)]: Done  33 tasks      | elapsed:  9.1min\n",
      "[Parallel(n_jobs=-1)]: Done 100 out of 100 | elapsed: 18.1min finished\n"
     ]
    },
    {
     "name": "stdout",
     "output_type": "stream",
     "text": [
      "{'regressor__regressor__n_estimators': 2710, 'regressor__regressor__min_samples_split': 0.001, 'regressor__regressor__min_samples_leaf': 0.001, 'regressor__regressor__max_features': 'log2', 'regressor__regressor__max_depth': 105, 'regressor__regressor__criterion': 'mse'}\n",
      "-322.34051194848496\n"
     ]
    }
   ],
   "source": [
    "# define random search (and narrow down time grid search)\n",
    "rf_random_search = RandomizedSearchCV(\n",
    "   estimator = pipeline_rf_update, \n",
    "   param_distributions = random_grid_rf, n_iter = 10,\n",
    "   cv = 10, verbose=2, random_state=1, n_jobs = -1, refit=True,\n",
    "   scoring=make_scorer(custom_scoring_func, greater_is_better=False)\n",
    ")\n",
    "\n",
    "\n",
    "# run grid search and refit with best hyper parameters\n",
    "rf_random_search.fit(X_train, y_train, regressor__sample_weight=weights_train.values)  \n",
    "print(rf_random_search.best_params_)    \n",
    "print(rf_random_search.best_score_)"
   ]
  },
  {
   "cell_type": "markdown",
   "metadata": {},
   "source": [
    "- **TODO make a plot that visualizes hyperparameters (maybe kind of heatmap)**\n",
    "- Once we have found good tuning parameters write them down so we don't need to redo this step over and over"
   ]
  },
  {
   "cell_type": "code",
   "execution_count": 95,
   "metadata": {},
   "outputs": [
    {
     "data": {
      "text/html": [
       "<div>\n",
       "<style scoped>\n",
       "    .dataframe tbody tr th:only-of-type {\n",
       "        vertical-align: middle;\n",
       "    }\n",
       "\n",
       "    .dataframe tbody tr th {\n",
       "        vertical-align: top;\n",
       "    }\n",
       "\n",
       "    .dataframe thead th {\n",
       "        text-align: right;\n",
       "    }\n",
       "</style>\n",
       "<table border=\"1\" class=\"dataframe\">\n",
       "  <thead>\n",
       "    <tr style=\"text-align: right;\">\n",
       "      <th></th>\n",
       "      <th>mean_fit_time</th>\n",
       "      <th>std_fit_time</th>\n",
       "      <th>mean_score_time</th>\n",
       "      <th>std_score_time</th>\n",
       "      <th>param_regressor__regressor__n_estimators</th>\n",
       "      <th>param_regressor__regressor__min_samples_split</th>\n",
       "      <th>param_regressor__regressor__min_samples_leaf</th>\n",
       "      <th>param_regressor__regressor__max_features</th>\n",
       "      <th>param_regressor__regressor__max_depth</th>\n",
       "      <th>param_regressor__regressor__criterion</th>\n",
       "      <th>params</th>\n",
       "      <th>split0_test_score</th>\n",
       "      <th>split1_test_score</th>\n",
       "      <th>split2_test_score</th>\n",
       "      <th>split3_test_score</th>\n",
       "      <th>split4_test_score</th>\n",
       "      <th>split5_test_score</th>\n",
       "      <th>split6_test_score</th>\n",
       "      <th>split7_test_score</th>\n",
       "      <th>split8_test_score</th>\n",
       "      <th>split9_test_score</th>\n",
       "      <th>mean_test_score</th>\n",
       "      <th>std_test_score</th>\n",
       "      <th>rank_test_score</th>\n",
       "    </tr>\n",
       "  </thead>\n",
       "  <tbody>\n",
       "    <tr>\n",
       "      <th>1</th>\n",
       "      <td>10.163443</td>\n",
       "      <td>0.097040</td>\n",
       "      <td>0.308929</td>\n",
       "      <td>0.018390</td>\n",
       "      <td>2710</td>\n",
       "      <td>0.001</td>\n",
       "      <td>0.001</td>\n",
       "      <td>log2</td>\n",
       "      <td>105</td>\n",
       "      <td>mse</td>\n",
       "      <td>{'regressor__regressor__n_estimators': 2710, '...</td>\n",
       "      <td>-289.631246</td>\n",
       "      <td>-465.485011</td>\n",
       "      <td>-303.718647</td>\n",
       "      <td>-266.545772</td>\n",
       "      <td>-354.677080</td>\n",
       "      <td>-373.423335</td>\n",
       "      <td>-296.831226</td>\n",
       "      <td>-379.603491</td>\n",
       "      <td>-280.613506</td>\n",
       "      <td>-212.875805</td>\n",
       "      <td>-322.340512</td>\n",
       "      <td>68.065128</td>\n",
       "      <td>1</td>\n",
       "    </tr>\n",
       "    <tr>\n",
       "      <th>8</th>\n",
       "      <td>6.065895</td>\n",
       "      <td>0.043031</td>\n",
       "      <td>0.074401</td>\n",
       "      <td>0.008811</td>\n",
       "      <td>500</td>\n",
       "      <td>0.001</td>\n",
       "      <td>0.001</td>\n",
       "      <td>None</td>\n",
       "      <td>171</td>\n",
       "      <td>mse</td>\n",
       "      <td>{'regressor__regressor__n_estimators': 500, 'r...</td>\n",
       "      <td>-252.723388</td>\n",
       "      <td>-504.014058</td>\n",
       "      <td>-252.973044</td>\n",
       "      <td>-283.994592</td>\n",
       "      <td>-323.875343</td>\n",
       "      <td>-396.985183</td>\n",
       "      <td>-318.068287</td>\n",
       "      <td>-370.995717</td>\n",
       "      <td>-312.938195</td>\n",
       "      <td>-220.323957</td>\n",
       "      <td>-323.689176</td>\n",
       "      <td>79.102106</td>\n",
       "      <td>2</td>\n",
       "    </tr>\n",
       "    <tr>\n",
       "      <th>0</th>\n",
       "      <td>191.580434</td>\n",
       "      <td>2.911150</td>\n",
       "      <td>0.134591</td>\n",
       "      <td>0.019171</td>\n",
       "      <td>1052</td>\n",
       "      <td>0.025</td>\n",
       "      <td>0.001</td>\n",
       "      <td>None</td>\n",
       "      <td>57</td>\n",
       "      <td>mae</td>\n",
       "      <td>{'regressor__regressor__n_estimators': 1052, '...</td>\n",
       "      <td>-268.129670</td>\n",
       "      <td>-519.313008</td>\n",
       "      <td>-256.066709</td>\n",
       "      <td>-304.943608</td>\n",
       "      <td>-324.857190</td>\n",
       "      <td>-411.401452</td>\n",
       "      <td>-325.113176</td>\n",
       "      <td>-380.452856</td>\n",
       "      <td>-327.059175</td>\n",
       "      <td>-221.129810</td>\n",
       "      <td>-333.846665</td>\n",
       "      <td>81.668061</td>\n",
       "      <td>3</td>\n",
       "    </tr>\n",
       "    <tr>\n",
       "      <th>6</th>\n",
       "      <td>15.360374</td>\n",
       "      <td>0.138861</td>\n",
       "      <td>0.342684</td>\n",
       "      <td>0.022014</td>\n",
       "      <td>2894</td>\n",
       "      <td>0.025</td>\n",
       "      <td>0.01</td>\n",
       "      <td>auto</td>\n",
       "      <td>76</td>\n",
       "      <td>mse</td>\n",
       "      <td>{'regressor__regressor__n_estimators': 2894, '...</td>\n",
       "      <td>-248.381263</td>\n",
       "      <td>-483.564308</td>\n",
       "      <td>-279.175072</td>\n",
       "      <td>-288.197911</td>\n",
       "      <td>-372.670945</td>\n",
       "      <td>-421.771150</td>\n",
       "      <td>-327.020882</td>\n",
       "      <td>-389.673498</td>\n",
       "      <td>-327.368570</td>\n",
       "      <td>-228.357551</td>\n",
       "      <td>-336.618115</td>\n",
       "      <td>76.345842</td>\n",
       "      <td>4</td>\n",
       "    </tr>\n",
       "    <tr>\n",
       "      <th>2</th>\n",
       "      <td>15.282449</td>\n",
       "      <td>1.438774</td>\n",
       "      <td>0.313861</td>\n",
       "      <td>0.049693</td>\n",
       "      <td>2710</td>\n",
       "      <td>0.05</td>\n",
       "      <td>0.001</td>\n",
       "      <td>auto</td>\n",
       "      <td>57</td>\n",
       "      <td>mse</td>\n",
       "      <td>{'regressor__regressor__n_estimators': 2710, '...</td>\n",
       "      <td>-280.352882</td>\n",
       "      <td>-505.884861</td>\n",
       "      <td>-259.670129</td>\n",
       "      <td>-288.331555</td>\n",
       "      <td>-353.300823</td>\n",
       "      <td>-428.157523</td>\n",
       "      <td>-339.889836</td>\n",
       "      <td>-386.387550</td>\n",
       "      <td>-332.850476</td>\n",
       "      <td>-239.610223</td>\n",
       "      <td>-341.443586</td>\n",
       "      <td>77.721904</td>\n",
       "      <td>5</td>\n",
       "    </tr>\n",
       "  </tbody>\n",
       "</table>\n",
       "</div>"
      ],
      "text/plain": [
       "   mean_fit_time  std_fit_time  mean_score_time  std_score_time  \\\n",
       "1      10.163443      0.097040         0.308929        0.018390   \n",
       "8       6.065895      0.043031         0.074401        0.008811   \n",
       "0     191.580434      2.911150         0.134591        0.019171   \n",
       "6      15.360374      0.138861         0.342684        0.022014   \n",
       "2      15.282449      1.438774         0.313861        0.049693   \n",
       "\n",
       "  param_regressor__regressor__n_estimators  \\\n",
       "1                                     2710   \n",
       "8                                      500   \n",
       "0                                     1052   \n",
       "6                                     2894   \n",
       "2                                     2710   \n",
       "\n",
       "  param_regressor__regressor__min_samples_split  \\\n",
       "1                                         0.001   \n",
       "8                                         0.001   \n",
       "0                                         0.025   \n",
       "6                                         0.025   \n",
       "2                                          0.05   \n",
       "\n",
       "  param_regressor__regressor__min_samples_leaf  \\\n",
       "1                                        0.001   \n",
       "8                                        0.001   \n",
       "0                                        0.001   \n",
       "6                                         0.01   \n",
       "2                                        0.001   \n",
       "\n",
       "  param_regressor__regressor__max_features  \\\n",
       "1                                     log2   \n",
       "8                                     None   \n",
       "0                                     None   \n",
       "6                                     auto   \n",
       "2                                     auto   \n",
       "\n",
       "  param_regressor__regressor__max_depth param_regressor__regressor__criterion  \\\n",
       "1                                   105                                   mse   \n",
       "8                                   171                                   mse   \n",
       "0                                    57                                   mae   \n",
       "6                                    76                                   mse   \n",
       "2                                    57                                   mse   \n",
       "\n",
       "                                              params  split0_test_score  \\\n",
       "1  {'regressor__regressor__n_estimators': 2710, '...        -289.631246   \n",
       "8  {'regressor__regressor__n_estimators': 500, 'r...        -252.723388   \n",
       "0  {'regressor__regressor__n_estimators': 1052, '...        -268.129670   \n",
       "6  {'regressor__regressor__n_estimators': 2894, '...        -248.381263   \n",
       "2  {'regressor__regressor__n_estimators': 2710, '...        -280.352882   \n",
       "\n",
       "   split1_test_score  split2_test_score  split3_test_score  split4_test_score  \\\n",
       "1        -465.485011        -303.718647        -266.545772        -354.677080   \n",
       "8        -504.014058        -252.973044        -283.994592        -323.875343   \n",
       "0        -519.313008        -256.066709        -304.943608        -324.857190   \n",
       "6        -483.564308        -279.175072        -288.197911        -372.670945   \n",
       "2        -505.884861        -259.670129        -288.331555        -353.300823   \n",
       "\n",
       "   split5_test_score  split6_test_score  split7_test_score  split8_test_score  \\\n",
       "1        -373.423335        -296.831226        -379.603491        -280.613506   \n",
       "8        -396.985183        -318.068287        -370.995717        -312.938195   \n",
       "0        -411.401452        -325.113176        -380.452856        -327.059175   \n",
       "6        -421.771150        -327.020882        -389.673498        -327.368570   \n",
       "2        -428.157523        -339.889836        -386.387550        -332.850476   \n",
       "\n",
       "   split9_test_score  mean_test_score  std_test_score  rank_test_score  \n",
       "1        -212.875805      -322.340512       68.065128                1  \n",
       "8        -220.323957      -323.689176       79.102106                2  \n",
       "0        -221.129810      -333.846665       81.668061                3  \n",
       "6        -228.357551      -336.618115       76.345842                4  \n",
       "2        -239.610223      -341.443586       77.721904                5  "
      ]
     },
     "execution_count": 95,
     "metadata": {},
     "output_type": "execute_result"
    }
   ],
   "source": [
    "# have look at the best hyperparameters and their respective performance (maybe also look at the sd)\n",
    "pd.DataFrame(rf_random_search.cv_results_).sort_values(\n",
    "    by=['mean_test_score'],ascending=False).head(5)"
   ]
  },
  {
   "cell_type": "markdown",
   "metadata": {},
   "source": [
    "### B) Performance on validation data"
   ]
  },
  {
   "cell_type": "code",
   "execution_count": 96,
   "metadata": {},
   "outputs": [
    {
     "data": {
      "text/plain": [
       "{'minimum price': 118.34875310317854,\n",
       " 'maximum price': 118.171516358394,\n",
       " 'total error': 236.52026946157252}"
      ]
     },
     "execution_count": 96,
     "metadata": {},
     "output_type": "execute_result"
    }
   ],
   "source": [
    "calculate_perf(y_val, rf_random_search.predict(X_val))"
   ]
  },
  {
   "cell_type": "markdown",
   "metadata": {},
   "source": [
    "### C) Post processing\n",
    "\n",
    " - inspect predictions/residuals (make visualisations) (See Bram)\n",
    " - feature importance (see Bram)"
   ]
  },
  {
   "cell_type": "markdown",
   "metadata": {},
   "source": [
    "### D) Predictions test data\n",
    "\n",
    "Refit on all training data (using the parameters found on the random search) and submit prediction"
   ]
  },
  {
   "cell_type": "code",
   "execution_count": 122,
   "metadata": {},
   "outputs": [
    {
     "name": "stdout",
     "output_type": "stream",
     "text": [
      "Sum weights: 1.0\n",
      "[Pipeline] ...... (step 1 of 2) Processing preprocessor, total=   0.2s\n",
      "[Pipeline] ......... (step 2 of 2) Processing regressor, total=   7.6s\n"
     ]
    }
   ],
   "source": [
    "# train your final model on all data with best parameters \n",
    "model_rf_final = RandomForestRegressor(\n",
    "     criterion='mse',\n",
    "     n_estimators=2710, \n",
    "     max_depth=105,\n",
    "     max_features='log2',\n",
    "     min_samples_split=0.001,\n",
    "     min_samples_leaf=0.001,\n",
    "     bootstrap=False,\n",
    "     n_jobs=-1\n",
    ")\n",
    "# add to pipeline\n",
    "pipeline_rf_final = Pipeline(memory=None,\n",
    "              steps=[('preprocessor', preprocessor),\n",
    "                     ('regressor', model_rf_final)],\n",
    "              verbose=True)\n",
    "\n",
    "# again add transformer for target variable\n",
    "pipeline_rf_final = TransformedTargetRegressor(regressor=pipeline_rf_final, \n",
    "                                         transformer=transformer_target)\n",
    "\n",
    "# fit final model on all training data we have at hand\n",
    "weights_all_train = weights_samples(y_all_train.iloc[:,1], order=)\n",
    "pipeline_rf_final = pipeline_rf_final.fit(X_all_train, y_all_train, regressor__sample_weight=weights_all_train.values)"
   ]
  },
  {
   "cell_type": "code",
   "execution_count": 123,
   "metadata": {},
   "outputs": [
    {
     "data": {
      "text/plain": [
       "{'minimum price': 1.7962332545846098,\n",
       " 'maximum price': 1.9217182963696042,\n",
       " 'total error': 3.717951550954214}"
      ]
     },
     "execution_count": 123,
     "metadata": {},
     "output_type": "execute_result"
    }
   ],
   "source": [
    "# performance on all data where the model was fit one (should be very low)\n",
    "calculate_perf(pipeline_rf_final.predict(X_all_train), y_all_train)"
   ]
  },
  {
   "cell_type": "code",
   "execution_count": 18,
   "metadata": {},
   "outputs": [],
   "source": [
    "# make predictions on test data\n",
    "rf_pred_test = pipeline_rf_final.predict(X_test)\n",
    "\n",
    "# submission format\n",
    "rf_submission_format = pd.DataFrame.from_dict(\n",
    " {'ID':df_test['id'].values,\n",
    " 'MIN':rf_pred_test[:,0],\n",
    " 'MAX':rf_pred_test[:,1]}).set_index('ID')\n",
    "\n",
    "# write to csv\n",
    "rf_submission_format.to_csv('../output/predictions_test/rf_python.csv' ,\n",
    "                            header=True, index=True, sep=',')"
   ]
  },
  {
   "cell_type": "markdown",
   "metadata": {},
   "source": [
    "## 2) Gradient Boosting\n",
    "Does not seem possible to fit multiple target variabels, so you do need to fit a differenet models for min. price and max. price"
   ]
  },
  {
   "cell_type": "markdown",
   "metadata": {},
   "source": [
    "## 3) Support Vector Machine"
   ]
  },
  {
   "cell_type": "markdown",
   "metadata": {},
   "source": [
    "Does not seem possible to fit multiple target variabels, so you do need to fit a differenet models for min. price and max. price"
   ]
  },
  {
   "cell_type": "markdown",
   "metadata": {},
   "source": [
    "## 4) Penalized Linear regression (Lasso, Ridge, Elastic net)"
   ]
  },
  {
   "cell_type": "markdown",
   "metadata": {},
   "source": [
    "Does not seem possible to fit multiple target variabels, so you do need to fit a differenet models for min. price and max. price"
   ]
  }
 ],
 "metadata": {
  "kernelspec": {
   "display_name": "Python 3",
   "language": "python",
   "name": "python3"
  },
  "language_info": {
   "codemirror_mode": {
    "name": "ipython",
    "version": 3
   },
   "file_extension": ".py",
   "mimetype": "text/x-python",
   "name": "python",
   "nbconvert_exporter": "python",
   "pygments_lexer": "ipython3",
   "version": "3.7.3"
  }
 },
 "nbformat": 4,
 "nbformat_minor": 4
}
