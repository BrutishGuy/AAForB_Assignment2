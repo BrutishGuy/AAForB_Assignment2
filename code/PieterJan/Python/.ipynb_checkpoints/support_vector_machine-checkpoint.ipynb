{
 "cells": [
  {
   "cell_type": "code",
   "execution_count": 125,
   "metadata": {},
   "outputs": [
    {
     "name": "stdout",
     "output_type": "stream",
     "text": [
      "The autoreload extension is already loaded. To reload it, use:\n",
      "  %reload_ext autoreload\n"
     ]
    }
   ],
   "source": [
    "# auto reload libraries (you do need to re-import libraries if you make changes)\n",
    "%load_ext autoreload\n",
    "%autoreload 2\n",
    "\n",
    "# base \n",
    "import pandas as pd\n",
    "import numpy as np\n",
    "from pprint import pprint\n",
    "import os\n",
    "\n",
    "# preprocessing \n",
    "from sklearn.pipeline import Pipeline\n",
    "from sklearn.experimental import enable_iterative_imputer \n",
    "from sklearn.impute import SimpleImputer, IterativeImputer,KNNImputer\n",
    "from sklearn.preprocessing import StandardScaler, OneHotEncoder, RobustScaler\n",
    "from sklearn.compose import ColumnTransformer\n",
    "from sklearn.model_selection import RandomizedSearchCV\n",
    "from sklearn.metrics import make_scorer\n",
    "from sklearn.compose import TransformedTargetRegressor\n",
    "from sklearn.preprocessing import PowerTransformer\n",
    "from sklearn.decomposition import TruncatedSVD\n",
    "\n",
    "# visualize\n",
    "import matplotlib.pyplot as plt\n",
    "\n",
    "# models\n",
    "from sklearn.svm import SVR\n",
    "\n",
    "# own defined functions/classes \n",
    "from preprocessing.preprocess_pipe import MakeLowerCase\n",
    "from preprocessing.preprocess_pipe import HdResolutionCategorizer\n",
    "from preprocessing.preprocess_pipe import StorageCategorizer\n",
    "from preprocessing.preprocess_pipe import SsdCategorizer\n",
    "\n",
    "from preprocessing.preprocess_pipe import print_missing\n",
    "from preprocessing.preprocess_pipe import calculate_perf\n",
    "from preprocessing.preprocess_pipe import custom_scoring_func_single_p\n",
    "\n",
    "from modelling.weight_samples import weights_samples\n",
    "\n",
    "from postprocessing.postprocessing import plot_predictions_results\n",
    "from postprocessing.postprocessing import plot_residuals"
   ]
  },
  {
   "cell_type": "code",
   "execution_count": 2,
   "metadata": {},
   "outputs": [
    {
     "name": "stdout",
     "output_type": "stream",
     "text": [
      "C:\\Users\\Pieter-Jan\\Documents\\KuLeuven\\Semester2\\AA\\AAForB_Assignment2\n"
     ]
    }
   ],
   "source": [
    "# global parameters\n",
    "pd.set_option('display.max_columns', 500)\n",
    "plt.style.use('ggplot')\n",
    "# set working directory\n",
    "uppath = lambda _path, n: os.sep.join(_path.split(os.sep)[:-n])\n",
    "__file__ = 'C:\\\\Users\\\\Pieter-Jan\\\\Documents\\\\KuLeuven\\\\Semester2\\\\AA\\\\AAForB_Assignment2\\\\code\\\\PieterJan'\n",
    "out = uppath(__file__, 2)\n",
    "os.chdir(out)\n",
    "print(os.getcwd())"
   ]
  },
  {
   "cell_type": "markdown",
   "metadata": {},
   "source": [
    "# Step 1: import data and split in train and validation set\n",
    "The validation set is more our own kind of test set"
   ]
  },
  {
   "cell_type": "code",
   "execution_count": 3,
   "metadata": {},
   "outputs": [
    {
     "name": "stdout",
     "output_type": "stream",
     "text": [
      "Dimensions of all training data (510, 22)\n",
      "Dimension test data (222, 20)\n"
     ]
    }
   ],
   "source": [
    "# read in trainig and validation data\n",
    "# use the same data split as we did in R\n",
    "df_all_train = pd.read_csv(\"data\\\\train.csv\", sep=',')\n",
    "df_test = pd.read_csv(\"data\\\\test.csv\", sep=',')\n",
    "\n",
    "print(f'Dimensions of all training data {df_all_train.shape}')\n",
    "print(f'Dimension test data {df_test.shape}')"
   ]
  },
  {
   "cell_type": "code",
   "execution_count": 4,
   "metadata": {},
   "outputs": [],
   "source": [
    "# split in training and validation set\n",
    "df_train = df_all_train.sample(frac=0.75, random_state=0, replace=False)\n",
    "df_val = df_all_train.drop(df_train.index)\n",
    "\n",
    "# reset index, if you don't resit missing rows get inserted in the pipeline\n",
    "# see: https://stackoverflow.com/questions/31323499/sklearn-error-valueerror-input-contains-nan-infinity-or-a-value-too-large-for\n",
    "df_train = df_train.reset_index().drop('index',axis=1)\n",
    "df_val = df_val.reset_index().drop('index',axis=1)"
   ]
  },
  {
   "cell_type": "markdown",
   "metadata": {},
   "source": [
    "# Step 2: define pipeline"
   ]
  },
  {
   "cell_type": "code",
   "execution_count": 5,
   "metadata": {},
   "outputs": [],
   "source": [
    "#Numerical features to pass down the numerical pipeline \n",
    "numerical_features = ['screen_size' ,'pixels_x','pixels_y',\n",
    "                      'ram', 'weight','ssd','storage']\n",
    "\n",
    "#Categrical features to pass down the categorical pipeline \n",
    "categorical_features = ['brand','base_name', 'screen_surface','touchscreen',\n",
    "                        'cpu','cpu_details','detachable_keyboard',\n",
    "                        'discrete_gpu','gpu', 'os','os_details']\n",
    "\n",
    "# define all unique features\n",
    "features = np.unique(numerical_features).tolist() + np.unique(categorical_features).tolist()\n",
    "\n",
    "# target variables\n",
    "target = ['min_price','max_price']"
   ]
  },
  {
   "cell_type": "code",
   "execution_count": 6,
   "metadata": {},
   "outputs": [],
   "source": [
    "# train\n",
    "X_train = df_train[features]\n",
    "y_train = df_train[target]\n",
    "\n",
    "# validation (this is kind our own test set)\n",
    "X_val  = df_val[features]\n",
    "y_val = df_val[target]\n",
    "\n",
    "# train_validation (this is all training data we have) for fitting the model\n",
    "X_all_train = df_all_train[features]\n",
    "y_all_train = df_all_train[target]\n",
    "\n",
    "# test\n",
    "X_test = df_test[features]"
   ]
  },
  {
   "cell_type": "code",
   "execution_count": 7,
   "metadata": {},
   "outputs": [],
   "source": [
    "# you can add many more and \n",
    "# you can even define custom preprocessing steps like 'MakeLowerCase()'\n",
    "\n",
    "# pipeline  uses only numerical features,\n",
    "numeric_transformer = Pipeline(steps=[\n",
    "    #('imputer', SimpleImputer(missing_values=np.nan, strategy='mean')),\n",
    "    #('imputer', KNNImputer(n_neighbors=5, weights='uniform',metric='nan_euclidean')),\n",
    "    ('imputer', IterativeImputer(missing_values=np.nan, random_state=0, n_nearest_features=None, sample_posterior=True)),\n",
    "    #('transformation', PowerTransformer(method='yeo-johnson',standardize=False)),\n",
    "     #Scale features using statistics that are robust to outliers.\n",
    "    ('scaler', RobustScaler(with_centering=True, with_scaling=True, quantile_range=(10.0, 90.0)))]) \n",
    "\n",
    "# pipeline use only categorical features\n",
    "categorical_transformer = Pipeline(steps=[ \n",
    "    ('lowercase', MakeLowerCase()), # lower cases all columns containing strings\n",
    "    #('sd_category' ,SsdCategorizer(drop_original_feature=True)),\n",
    "    #('storage_category', StorageCategorizer(drop_original_feature=True)),\n",
    "    ('imputer', SimpleImputer(missing_values=np.nan, strategy=\"most_frequent\")),\n",
    "    ('onehot', OneHotEncoder(handle_unknown='ignore'))])\n",
    "\n",
    "# add both preprocessing pipelines in one pipeline\n",
    "preprocessor = ColumnTransformer(\n",
    "    transformers=[\n",
    "        ('num', numeric_transformer, numerical_features),\n",
    "        ('cat', categorical_transformer, categorical_features)])"
   ]
  },
  {
   "cell_type": "code",
   "execution_count": 8,
   "metadata": {},
   "outputs": [
    {
     "data": {
      "text/plain": [
       "(382, 1)"
      ]
     },
     "execution_count": 8,
     "metadata": {},
     "output_type": "execute_result"
    }
   ],
   "source": [
    "# this is how the preporcessed pipeline looks like (just to have an idea)\n",
    "pd.DataFrame(preprocessor.fit_transform(X_train)).shape"
   ]
  },
  {
   "cell_type": "markdown",
   "metadata": {},
   "source": [
    "# Step 3: add models to pipeline\n",
    "\n",
    "Possible to fit multiple target variabels, so you **don't** need to fit a different models for min. price and max. price\n",
    "\n",
    "### A) Training and parameter tuning\n",
    "\n",
    "##### 1) Automatic tuning via grid search\n",
    "\n",
    "I will only **do the tuning for the minimum price** and use the found parameters also for the maximum price"
   ]
  },
  {
   "cell_type": "code",
   "execution_count": 8,
   "metadata": {},
   "outputs": [
    {
     "name": "stdout",
     "output_type": "stream",
     "text": [
      "Parameters currently in use:\n",
      "\n",
      "{'C': 1.0,\n",
      " 'cache_size': 200,\n",
      " 'coef0': 0.0,\n",
      " 'degree': 3,\n",
      " 'epsilon': 0.1,\n",
      " 'gamma': 'scale',\n",
      " 'kernel': 'rbf',\n",
      " 'max_iter': -1,\n",
      " 'shrinking': True,\n",
      " 'tol': 0.001,\n",
      " 'verbose': False}\n"
     ]
    }
   ],
   "source": [
    "# define model: I just add some default parameters but you could\n",
    "# also just write: RandomForestRegressor() since we will perform a grid search \n",
    "# to find good hyperparameter values\n",
    "model_min_p = SVR()\n",
    "model_max_p = SVR()\n",
    "\n",
    "# Look at parameters used by our current forest\n",
    "print('Parameters currently in use:\\n')\n",
    "pprint(model_min_p.get_params())\n",
    "\n",
    "# add to pipeline\n",
    "# 1) min price\n",
    "pipeline_min_p = Pipeline(memory=None,\n",
    "              steps=[('preprocessor', preprocessor),\n",
    "                     ('regressor', model_min_p)])\n",
    "\n",
    "\n",
    "# add transformation on the target variable, by default power transformation \n",
    "# also performs standardization after performing the power transformation\n",
    "# and back transform to the original space when outputting predictions \n",
    "\n",
    "# 1) min price\n",
    "transformer_target = PowerTransformer(method='yeo-johnson',standardize=True)\n",
    "pipeline_min_p_update = TransformedTargetRegressor(regressor=pipeline_min_p, \n",
    "                                         transformer=transformer_target)"
   ]
  },
  {
   "cell_type": "code",
   "execution_count": 9,
   "metadata": {},
   "outputs": [],
   "source": [
    "# kernelstring, optional (default=’rbf’)\n",
    "# Specifies the kernel type to be used in the algorithm. It must be one of ‘linear’, \n",
    "# ‘poly’, ‘rbf’, ‘sigmoid’, ‘precomputed’ or a callable. \n",
    "# If none is given, ‘rbf’ will be used. If a callable is given it is used to precompute the kernel matrix.\n",
    "\n",
    "kernel = ['linear', 'poly', 'rbf', 'sigmoid']\n",
    "\n",
    "# degreeint, optional (default=3)\n",
    "# Degree of the polynomial kernel function (‘poly’). Ignored by all other kernels.\n",
    "degree = [1, 3, 5, 7, 9, 11, 13]\n",
    "\n",
    "# tol, optional (default=1e-3)\n",
    "# Tolerance for stopping criterion.\n",
    "tol = [0.0001, 0.001, 0.01, 0.05, 0.1, 0.2, 0.3 ,0.5]\n",
    "\n",
    "# gamma{‘scale’, ‘auto’} or float, optional (default=’scale’)\n",
    "# Kernel coefficient for ‘rbf’, ‘poly’ and ‘sigmoid’.\n",
    "#   - if gamma='scale' (default) is passed then it uses 1 / (n_features * X.var()) as value of gamma,\n",
    "#   - if ‘auto’, uses 1 / n_features.\n",
    "\n",
    "gamma = ['scale','auto']\n",
    "\n",
    "# coef0 float, optional (default=0.0)\n",
    "# Independent term in kernel function. It is only significant in ‘poly’ and ‘sigmoid’.\n",
    "\n",
    "coef0 = [0, 0.1, 0.25, 1, 1.25, 1.5, 2, 2.5]\n",
    "\n",
    "# C float, optional (default=1.0)\n",
    "# Regularization parameter. The strength of the regularization is inversely \n",
    "# proportional to C. Must be strictly positive. The penalty is a squared l2 penalty\n",
    "C = [0.001, 0.01, 0.1, 0.25, 0.5, 1, 2, 10]\n",
    "\n",
    "       \n",
    "# epsilon float, optional (default=0.1)\n",
    "# Epsilon in the epsilon-SVR model. It specifies the epsilon-tube within which no penalty \n",
    "# is associated in the training loss function with points predicted within a distance epsilon from the actual value.\n",
    "epsilon = [0.001, 0.05,0.025, 0.1, 0.2, 0.3]\n",
    "      \n",
    "# shrinking boolean, optional (default=True)\n",
    "# Whether to use the shrinking heuristic.    \n",
    "shrinking = [True, False]\n",
    "\n",
    "# Create the random grid\n",
    "random_grid = {\n",
    "   'regressor__regressor__kernel': kernel,\n",
    "   'regressor__regressor__degree': degree,\n",
    "   'regressor__regressor__tol': tol,\n",
    "   'regressor__regressor__gamma': gamma,\n",
    "   'regressor__regressor__coef0': coef0,\n",
    "   'regressor__regressor__C': C,\n",
    "   'regressor__regressor__epsilon': epsilon,\n",
    "   'regressor__regressor__shrinking': shrinking    \n",
    "}"
   ]
  },
  {
   "cell_type": "code",
   "execution_count": 10,
   "metadata": {},
   "outputs": [
    {
     "name": "stdout",
     "output_type": "stream",
     "text": [
      "Sum weights: 1.0\n",
      "Fitting 10 folds for each of 400 candidates, totalling 4000 fits\n"
     ]
    },
    {
     "name": "stderr",
     "output_type": "stream",
     "text": [
      "[Parallel(n_jobs=-1)]: Using backend LokyBackend with 4 concurrent workers.\n",
      "[Parallel(n_jobs=-1)]: Done  33 tasks      | elapsed:    4.8s\n",
      "[Parallel(n_jobs=-1)]: Done 154 tasks      | elapsed:   14.2s\n",
      "[Parallel(n_jobs=-1)]: Done 357 tasks      | elapsed:   34.4s\n",
      "[Parallel(n_jobs=-1)]: Done 640 tasks      | elapsed:  1.1min\n",
      "[Parallel(n_jobs=-1)]: Done 1005 tasks      | elapsed:  1.6min\n",
      "[Parallel(n_jobs=-1)]: Done 1450 tasks      | elapsed:  2.3min\n",
      "[Parallel(n_jobs=-1)]: Done 1977 tasks      | elapsed:  3.2min\n",
      "[Parallel(n_jobs=-1)]: Done 2584 tasks      | elapsed:  4.1min\n",
      "[Parallel(n_jobs=-1)]: Done 3273 tasks      | elapsed:  5.1min\n",
      "[Parallel(n_jobs=-1)]: Done 4000 out of 4000 | elapsed:  6.2min finished\n"
     ]
    },
    {
     "name": "stdout",
     "output_type": "stream",
     "text": [
      "{'regressor__regressor__tol': 0.001, 'regressor__regressor__shrinking': False, 'regressor__regressor__kernel': 'rbf', 'regressor__regressor__gamma': 'scale', 'regressor__regressor__epsilon': 0.001, 'regressor__regressor__degree': 7, 'regressor__regressor__coef0': 0.1, 'regressor__regressor__C': 1}\n",
      "-150.63101270006942\n"
     ]
    }
   ],
   "source": [
    "# define random search (and narrow down time grid search)\n",
    "min_p_random_search = RandomizedSearchCV(\n",
    "   estimator = pipeline_min_p_update, \n",
    "   param_distributions = random_grid, n_iter = 400,\n",
    "   cv = 10, verbose=2, random_state=1, n_jobs = -1, refit=True,\n",
    "   scoring=make_scorer(custom_scoring_func_single_p, greater_is_better=False)\n",
    ")\n",
    "\n",
    "# run grid search and refit with best hyper parameters\n",
    "weights_train_min_p =  weights_samples(df=y_train.iloc[:,0], order=0, plot_weights=False)\n",
    "min_p_random_search.fit(X_train, y_train.iloc[:,0])  \n",
    "print(min_p_random_search.best_params_)    \n",
    "print(min_p_random_search.best_score_)"
   ]
  },
  {
   "cell_type": "code",
   "execution_count": 11,
   "metadata": {},
   "outputs": [
    {
     "data": {
      "text/html": [
       "<div>\n",
       "<style scoped>\n",
       "    .dataframe tbody tr th:only-of-type {\n",
       "        vertical-align: middle;\n",
       "    }\n",
       "\n",
       "    .dataframe tbody tr th {\n",
       "        vertical-align: top;\n",
       "    }\n",
       "\n",
       "    .dataframe thead th {\n",
       "        text-align: right;\n",
       "    }\n",
       "</style>\n",
       "<table border=\"1\" class=\"dataframe\">\n",
       "  <thead>\n",
       "    <tr style=\"text-align: right;\">\n",
       "      <th></th>\n",
       "      <th>mean_fit_time</th>\n",
       "      <th>std_fit_time</th>\n",
       "      <th>mean_score_time</th>\n",
       "      <th>std_score_time</th>\n",
       "      <th>param_regressor__regressor__tol</th>\n",
       "      <th>param_regressor__regressor__shrinking</th>\n",
       "      <th>param_regressor__regressor__kernel</th>\n",
       "      <th>param_regressor__regressor__gamma</th>\n",
       "      <th>param_regressor__regressor__epsilon</th>\n",
       "      <th>param_regressor__regressor__degree</th>\n",
       "      <th>param_regressor__regressor__coef0</th>\n",
       "      <th>param_regressor__regressor__C</th>\n",
       "      <th>params</th>\n",
       "      <th>split0_test_score</th>\n",
       "      <th>split1_test_score</th>\n",
       "      <th>split2_test_score</th>\n",
       "      <th>split3_test_score</th>\n",
       "      <th>split4_test_score</th>\n",
       "      <th>split5_test_score</th>\n",
       "      <th>split6_test_score</th>\n",
       "      <th>split7_test_score</th>\n",
       "      <th>split8_test_score</th>\n",
       "      <th>split9_test_score</th>\n",
       "      <th>mean_test_score</th>\n",
       "      <th>std_test_score</th>\n",
       "      <th>rank_test_score</th>\n",
       "    </tr>\n",
       "  </thead>\n",
       "  <tbody>\n",
       "    <tr>\n",
       "      <th>293</th>\n",
       "      <td>0.372503</td>\n",
       "      <td>0.040846</td>\n",
       "      <td>0.025407</td>\n",
       "      <td>0.010058</td>\n",
       "      <td>0.001</td>\n",
       "      <td>False</td>\n",
       "      <td>rbf</td>\n",
       "      <td>scale</td>\n",
       "      <td>0.001</td>\n",
       "      <td>7</td>\n",
       "      <td>0.1</td>\n",
       "      <td>1</td>\n",
       "      <td>{'regressor__regressor__tol': 0.001, 'regresso...</td>\n",
       "      <td>-96.707327</td>\n",
       "      <td>-229.048122</td>\n",
       "      <td>-162.805210</td>\n",
       "      <td>-141.819128</td>\n",
       "      <td>-153.739298</td>\n",
       "      <td>-190.239262</td>\n",
       "      <td>-139.319163</td>\n",
       "      <td>-148.485266</td>\n",
       "      <td>-146.462320</td>\n",
       "      <td>-97.685031</td>\n",
       "      <td>-150.631013</td>\n",
       "      <td>37.167942</td>\n",
       "      <td>1</td>\n",
       "    </tr>\n",
       "    <tr>\n",
       "      <th>13</th>\n",
       "      <td>0.267358</td>\n",
       "      <td>0.024195</td>\n",
       "      <td>0.018552</td>\n",
       "      <td>0.005448</td>\n",
       "      <td>0.0001</td>\n",
       "      <td>False</td>\n",
       "      <td>rbf</td>\n",
       "      <td>scale</td>\n",
       "      <td>0.001</td>\n",
       "      <td>5</td>\n",
       "      <td>0.25</td>\n",
       "      <td>1</td>\n",
       "      <td>{'regressor__regressor__tol': 0.0001, 'regress...</td>\n",
       "      <td>-96.682444</td>\n",
       "      <td>-229.055185</td>\n",
       "      <td>-162.793831</td>\n",
       "      <td>-141.818650</td>\n",
       "      <td>-153.745841</td>\n",
       "      <td>-190.239294</td>\n",
       "      <td>-139.341081</td>\n",
       "      <td>-148.511293</td>\n",
       "      <td>-146.476829</td>\n",
       "      <td>-97.666495</td>\n",
       "      <td>-150.633094</td>\n",
       "      <td>37.174402</td>\n",
       "      <td>2</td>\n",
       "    </tr>\n",
       "    <tr>\n",
       "      <th>255</th>\n",
       "      <td>0.289590</td>\n",
       "      <td>0.034716</td>\n",
       "      <td>0.023203</td>\n",
       "      <td>0.006712</td>\n",
       "      <td>0.05</td>\n",
       "      <td>True</td>\n",
       "      <td>rbf</td>\n",
       "      <td>scale</td>\n",
       "      <td>0.001</td>\n",
       "      <td>7</td>\n",
       "      <td>0.1</td>\n",
       "      <td>1</td>\n",
       "      <td>{'regressor__regressor__tol': 0.05, 'regressor...</td>\n",
       "      <td>-97.422172</td>\n",
       "      <td>-229.846882</td>\n",
       "      <td>-163.615855</td>\n",
       "      <td>-140.203520</td>\n",
       "      <td>-154.118456</td>\n",
       "      <td>-190.383512</td>\n",
       "      <td>-138.459256</td>\n",
       "      <td>-147.728959</td>\n",
       "      <td>-146.166007</td>\n",
       "      <td>-98.404875</td>\n",
       "      <td>-150.634949</td>\n",
       "      <td>37.256108</td>\n",
       "      <td>3</td>\n",
       "    </tr>\n",
       "    <tr>\n",
       "      <th>345</th>\n",
       "      <td>0.288505</td>\n",
       "      <td>0.034508</td>\n",
       "      <td>0.023986</td>\n",
       "      <td>0.007857</td>\n",
       "      <td>0.0001</td>\n",
       "      <td>True</td>\n",
       "      <td>rbf</td>\n",
       "      <td>scale</td>\n",
       "      <td>0.05</td>\n",
       "      <td>7</td>\n",
       "      <td>0</td>\n",
       "      <td>1</td>\n",
       "      <td>{'regressor__regressor__tol': 0.0001, 'regress...</td>\n",
       "      <td>-101.242426</td>\n",
       "      <td>-233.649290</td>\n",
       "      <td>-164.236291</td>\n",
       "      <td>-140.752709</td>\n",
       "      <td>-157.959136</td>\n",
       "      <td>-194.776495</td>\n",
       "      <td>-133.848570</td>\n",
       "      <td>-150.915975</td>\n",
       "      <td>-147.084640</td>\n",
       "      <td>-97.870337</td>\n",
       "      <td>-152.233587</td>\n",
       "      <td>38.299858</td>\n",
       "      <td>4</td>\n",
       "    </tr>\n",
       "    <tr>\n",
       "      <th>201</th>\n",
       "      <td>0.293698</td>\n",
       "      <td>0.035576</td>\n",
       "      <td>0.025802</td>\n",
       "      <td>0.008541</td>\n",
       "      <td>0.001</td>\n",
       "      <td>False</td>\n",
       "      <td>rbf</td>\n",
       "      <td>scale</td>\n",
       "      <td>0.05</td>\n",
       "      <td>5</td>\n",
       "      <td>0</td>\n",
       "      <td>1</td>\n",
       "      <td>{'regressor__regressor__tol': 0.001, 'regresso...</td>\n",
       "      <td>-101.262029</td>\n",
       "      <td>-233.649417</td>\n",
       "      <td>-164.256822</td>\n",
       "      <td>-140.757252</td>\n",
       "      <td>-157.991321</td>\n",
       "      <td>-194.765689</td>\n",
       "      <td>-133.823637</td>\n",
       "      <td>-150.914853</td>\n",
       "      <td>-147.087721</td>\n",
       "      <td>-97.850521</td>\n",
       "      <td>-152.235926</td>\n",
       "      <td>38.301039</td>\n",
       "      <td>5</td>\n",
       "    </tr>\n",
       "  </tbody>\n",
       "</table>\n",
       "</div>"
      ],
      "text/plain": [
       "     mean_fit_time  std_fit_time  mean_score_time  std_score_time  \\\n",
       "293       0.372503      0.040846         0.025407        0.010058   \n",
       "13        0.267358      0.024195         0.018552        0.005448   \n",
       "255       0.289590      0.034716         0.023203        0.006712   \n",
       "345       0.288505      0.034508         0.023986        0.007857   \n",
       "201       0.293698      0.035576         0.025802        0.008541   \n",
       "\n",
       "    param_regressor__regressor__tol param_regressor__regressor__shrinking  \\\n",
       "293                           0.001                                 False   \n",
       "13                           0.0001                                 False   \n",
       "255                            0.05                                  True   \n",
       "345                          0.0001                                  True   \n",
       "201                           0.001                                 False   \n",
       "\n",
       "    param_regressor__regressor__kernel param_regressor__regressor__gamma  \\\n",
       "293                                rbf                             scale   \n",
       "13                                 rbf                             scale   \n",
       "255                                rbf                             scale   \n",
       "345                                rbf                             scale   \n",
       "201                                rbf                             scale   \n",
       "\n",
       "    param_regressor__regressor__epsilon param_regressor__regressor__degree  \\\n",
       "293                               0.001                                  7   \n",
       "13                                0.001                                  5   \n",
       "255                               0.001                                  7   \n",
       "345                                0.05                                  7   \n",
       "201                                0.05                                  5   \n",
       "\n",
       "    param_regressor__regressor__coef0 param_regressor__regressor__C  \\\n",
       "293                               0.1                             1   \n",
       "13                               0.25                             1   \n",
       "255                               0.1                             1   \n",
       "345                                 0                             1   \n",
       "201                                 0                             1   \n",
       "\n",
       "                                                params  split0_test_score  \\\n",
       "293  {'regressor__regressor__tol': 0.001, 'regresso...         -96.707327   \n",
       "13   {'regressor__regressor__tol': 0.0001, 'regress...         -96.682444   \n",
       "255  {'regressor__regressor__tol': 0.05, 'regressor...         -97.422172   \n",
       "345  {'regressor__regressor__tol': 0.0001, 'regress...        -101.242426   \n",
       "201  {'regressor__regressor__tol': 0.001, 'regresso...        -101.262029   \n",
       "\n",
       "     split1_test_score  split2_test_score  split3_test_score  \\\n",
       "293        -229.048122        -162.805210        -141.819128   \n",
       "13         -229.055185        -162.793831        -141.818650   \n",
       "255        -229.846882        -163.615855        -140.203520   \n",
       "345        -233.649290        -164.236291        -140.752709   \n",
       "201        -233.649417        -164.256822        -140.757252   \n",
       "\n",
       "     split4_test_score  split5_test_score  split6_test_score  \\\n",
       "293        -153.739298        -190.239262        -139.319163   \n",
       "13         -153.745841        -190.239294        -139.341081   \n",
       "255        -154.118456        -190.383512        -138.459256   \n",
       "345        -157.959136        -194.776495        -133.848570   \n",
       "201        -157.991321        -194.765689        -133.823637   \n",
       "\n",
       "     split7_test_score  split8_test_score  split9_test_score  mean_test_score  \\\n",
       "293        -148.485266        -146.462320         -97.685031      -150.631013   \n",
       "13         -148.511293        -146.476829         -97.666495      -150.633094   \n",
       "255        -147.728959        -146.166007         -98.404875      -150.634949   \n",
       "345        -150.915975        -147.084640         -97.870337      -152.233587   \n",
       "201        -150.914853        -147.087721         -97.850521      -152.235926   \n",
       "\n",
       "     std_test_score  rank_test_score  \n",
       "293       37.167942                1  \n",
       "13        37.174402                2  \n",
       "255       37.256108                3  \n",
       "345       38.299858                4  \n",
       "201       38.301039                5  "
      ]
     },
     "execution_count": 11,
     "metadata": {},
     "output_type": "execute_result"
    }
   ],
   "source": [
    "# have look at the best hyperparameters and their respective performance (maybe also look at the sd)\n",
    "pd.DataFrame(min_p_random_search.cv_results_).sort_values(\n",
    "    by=['mean_test_score'],ascending=False).head(5)"
   ]
  },
  {
   "cell_type": "markdown",
   "metadata": {},
   "source": [
    "##### 2) Manual parameters tuning"
   ]
  },
  {
   "cell_type": "code",
   "execution_count": 12,
   "metadata": {},
   "outputs": [
    {
     "name": "stdout",
     "output_type": "stream",
     "text": [
      "Sum weights: 1.0\n",
      "[Pipeline] ...... (step 1 of 2) Processing preprocessor, total=   0.2s\n",
      "[Pipeline] ......... (step 2 of 2) Processing regressor, total=   0.0s\n",
      "Sum weights: 1.0\n",
      "[Pipeline] ...... (step 1 of 2) Processing preprocessor, total=   0.2s\n",
      "[Pipeline] ......... (step 2 of 2) Processing regressor, total=   0.0s\n"
     ]
    }
   ],
   "source": [
    "# train your final model on all data with best parameters \n",
    "\n",
    "# 1) min price\n",
    "model_min_p = SVR(\n",
    "    tol = 0.0001,\n",
    "    shrinking = False,\n",
    "    kernel = 'rbf',\n",
    "    gamma = 'scale',\n",
    "    epsilon = 0.001,\n",
    "    degree = 7,\n",
    "    coef0 = 0.1,\n",
    "    C = 1\n",
    ")\n",
    "\n",
    "# 2)  min price\n",
    "model_max_p = SVR(   \n",
    "    tol = 0.0001,\n",
    "    shrinking = False,\n",
    "    kernel = 'rbf',\n",
    "    gamma = 'scale',\n",
    "    epsilon = 0.001,\n",
    "    degree = 7,\n",
    "    coef0 = 0.1,\n",
    "    C = 1\n",
    ")\n",
    "\n",
    "\n",
    "# add to pipeline\n",
    "\n",
    "# 1) min price\n",
    "pipeline_min_p = Pipeline(memory=None,\n",
    "              steps=[('preprocessor', preprocessor),\n",
    "                     ('regressor', model_min_p)],\n",
    "              verbose=True)\n",
    "\n",
    "# 2) min price\n",
    "pipeline_max_p = Pipeline(memory=None,\n",
    "              steps=[('preprocessor', preprocessor),\n",
    "                     ('regressor', model_max_p)],\n",
    "              verbose=True)\n",
    "\n",
    "# again add transformer for target variable\n",
    "\n",
    "# 1) min price\n",
    "pipeline_min_p_update = TransformedTargetRegressor(regressor=pipeline_min_p, \n",
    "                                         transformer=transformer_target)\n",
    "# 2) max price\n",
    "pipeline_max_p_update = TransformedTargetRegressor(regressor=pipeline_max_p, \n",
    "                                         transformer=transformer_target)\n",
    "\n",
    "# fit final model on all training data we have at hand\n",
    "\n",
    "# 1) min price\n",
    "weights_train_min_p = weights_samples(y_train.iloc[:,0], order=0)\n",
    "pipeline_min_p = pipeline_min_p_update.fit(X_train, y_train.iloc[:,0])\n",
    "\n",
    "# 2) max price\n",
    "weights_train_max_p = weights_samples(y_train.iloc[:,1], order=0)\n",
    "pipeline_max_p = pipeline_max_p_update.fit(X_train, y_train.iloc[:,1])"
   ]
  },
  {
   "cell_type": "code",
   "execution_count": 13,
   "metadata": {},
   "outputs": [
    {
     "data": {
      "text/plain": [
       "{'minimum price': 41.855393974224754,\n",
       " 'maximum price': 41.07648129136332,\n",
       " 'total error': 82.93187526558808}"
      ]
     },
     "execution_count": 13,
     "metadata": {},
     "output_type": "execute_result"
    }
   ],
   "source": [
    "# performance on data where the model was fit one (should be very low)\n",
    "pred_train_min_p = pipeline_min_p.predict(X_train)\n",
    "pred_train_max_p = pipeline_max_p.predict(X_train)\n",
    "\n",
    "# calculate performance\n",
    "pred_train = pd.DataFrame([pred_train_min_p,pred_train_max_p]).T\n",
    "calculate_perf(y_train, pred_train)"
   ]
  },
  {
   "cell_type": "markdown",
   "metadata": {},
   "source": [
    "##### Performance on validation data"
   ]
  },
  {
   "cell_type": "code",
   "execution_count": 14,
   "metadata": {},
   "outputs": [
    {
     "data": {
      "text/plain": [
       "{'minimum price': 124.28417428186145,\n",
       " 'maximum price': 128.89233320592024,\n",
       " 'total error': 253.1765074877817}"
      ]
     },
     "execution_count": 14,
     "metadata": {},
     "output_type": "execute_result"
    }
   ],
   "source": [
    "# performance on validation data\n",
    "pred_val_min_p = pipeline_min_p.predict(X_val)\n",
    "pred_val_max_p = pipeline_max_p.predict(X_val)\n",
    "\n",
    "# calculate performance \n",
    "pred_val = pd.DataFrame([pred_val_min_p,pred_val_max_p]).T\n",
    "calculate_perf(y_val, pred_val)"
   ]
  },
  {
   "cell_type": "markdown",
   "metadata": {},
   "source": [
    "### C) Post processing\n"
   ]
  },
  {
   "cell_type": "code",
   "execution_count": 126,
   "metadata": {},
   "outputs": [
    {
     "ename": "NameError",
     "evalue": "name 'np' is not defined",
     "output_type": "error",
     "traceback": [
      "\u001b[1;31m---------------------------------------------------------------------------\u001b[0m",
      "\u001b[1;31mNameError\u001b[0m                                 Traceback (most recent call last)",
      "\u001b[1;32m~\\Documents\\KuLeuven\\Semester2\\AA\\AAForB_Assignment2\\code\\PieterJan\u001b[0m in \u001b[0;36m<module>\u001b[1;34m\u001b[0m\n\u001b[0;32m     22\u001b[0m                \u001b[0mtitle\u001b[0m\u001b[1;33m=\u001b[0m\u001b[1;34m\"\"\u001b[0m\u001b[1;33m,\u001b[0m\u001b[1;33m\u001b[0m\u001b[1;33m\u001b[0m\u001b[0m\n\u001b[0;32m     23\u001b[0m                \u001b[0mlog_scale\u001b[0m\u001b[1;33m=\u001b[0m\u001b[1;32mFalse\u001b[0m\u001b[1;33m,\u001b[0m\u001b[1;33m\u001b[0m\u001b[1;33m\u001b[0m\u001b[0m\n\u001b[1;32m---> 24\u001b[1;33m                order=1)\n\u001b[0m\u001b[0;32m     25\u001b[0m \u001b[1;33m\u001b[0m\u001b[0m\n\u001b[0;32m     26\u001b[0m \u001b[1;31m# residuals maximum price\u001b[0m\u001b[1;33m\u001b[0m\u001b[1;33m\u001b[0m\u001b[1;33m\u001b[0m\u001b[0m\n",
      "\u001b[1;32m~\\Documents\\KuLeuven\\Semester2\\AA\\AAForB_Assignment2\\code\\PieterJan\\Python\\postprocessing\\postprocessing.py\u001b[0m in \u001b[0;36mplot_residuals\u001b[1;34m(ax, y_true, y_pred, log_scale, ylab, xlab, order, title, color_scatter)\u001b[0m\n\u001b[0;32m     33\u001b[0m     \u001b[1;34m\"\"\"plots residuals\"\"\"\u001b[0m\u001b[1;33m\u001b[0m\u001b[1;33m\u001b[0m\u001b[0m\n\u001b[0;32m     34\u001b[0m     \u001b[0mresiduals\u001b[0m \u001b[1;33m=\u001b[0m \u001b[0my_true\u001b[0m \u001b[1;33m-\u001b[0m \u001b[0my_pred\u001b[0m\u001b[1;33m\u001b[0m\u001b[1;33m\u001b[0m\u001b[0m\n\u001b[1;32m---> 35\u001b[1;33m     \u001b[0max\u001b[0m\u001b[1;33m.\u001b[0m\u001b[0mscatter\u001b[0m\u001b[1;33m(\u001b[0m\u001b[0mx\u001b[0m\u001b[1;33m=\u001b[0m\u001b[0mnp\u001b[0m\u001b[1;33m.\u001b[0m\u001b[0marange\u001b[0m\u001b[1;33m(\u001b[0m\u001b[1;36m0\u001b[0m\u001b[1;33m,\u001b[0m\u001b[0mlen\u001b[0m\u001b[1;33m(\u001b[0m\u001b[0my_true\u001b[0m\u001b[1;33m)\u001b[0m\u001b[1;33m)\u001b[0m\u001b[1;33m,\u001b[0m\u001b[0my\u001b[0m\u001b[1;33m=\u001b[0m\u001b[0mresiduals\u001b[0m\u001b[1;33m**\u001b[0m\u001b[0morder\u001b[0m\u001b[1;33m,\u001b[0m \u001b[0malpha\u001b[0m\u001b[1;33m=\u001b[0m\u001b[1;36m0.2\u001b[0m\u001b[1;33m,\u001b[0m \u001b[0mcolor\u001b[0m\u001b[1;33m=\u001b[0m\u001b[0mcolor_scatter\u001b[0m\u001b[1;33m)\u001b[0m\u001b[1;33m\u001b[0m\u001b[1;33m\u001b[0m\u001b[0m\n\u001b[0m\u001b[0;32m     36\u001b[0m     \u001b[0max\u001b[0m\u001b[1;33m.\u001b[0m\u001b[0mset_xlabel\u001b[0m\u001b[1;33m(\u001b[0m\u001b[0mxlab\u001b[0m\u001b[1;33m)\u001b[0m\u001b[1;33m\u001b[0m\u001b[1;33m\u001b[0m\u001b[0m\n\u001b[0;32m     37\u001b[0m     \u001b[0max\u001b[0m\u001b[1;33m.\u001b[0m\u001b[0mset_ylabel\u001b[0m\u001b[1;33m(\u001b[0m\u001b[0mylab\u001b[0m\u001b[1;33m)\u001b[0m\u001b[1;33m\u001b[0m\u001b[1;33m\u001b[0m\u001b[0m\n",
      "\u001b[1;31mNameError\u001b[0m: name 'np' is not defined"
     ]
    },
    {
     "data": {
      "image/png": "[encoded data removed]",
      "text/plain": [
       "<Figure size 864x720 with 4 Axes>"
      ]
     },
     "metadata": {},
     "output_type": "display_data"
    }
   ],
   "source": [
    "fig, axs = plt.subplots(2, 2, figsize=(12, 10))\n",
    "axs = np.ravel(axs)\n",
    "\n",
    "# fitted against true predictions minimum price\n",
    "plot_predictions_results(ax=axs[0], \n",
    "                        y_true=y_val.iloc[:,0], \n",
    "                        y_pred=pred_val_min_p, \n",
    "                        title=\"SVM Minimum Price Training Set\", \n",
    "                        log_scale=True)\n",
    "\n",
    "# fitted against true predictions maximum price\n",
    "plot_predictions_results(ax=axs[1], \n",
    "                        y_true=y_val.iloc[:,1], \n",
    "                        y_pred=pred_val_max_p, \n",
    "                        title=\"SVM Maximum Price Training Set\", \n",
    "                        log_scale=True)\n",
    "\n",
    "# residuals minimum price\n",
    "plot_residuals(ax=axs[2], \n",
    "               y_true=y_val.iloc[:,0], \n",
    "               y_pred=pred_val_min_p, \n",
    "               title=\"\", \n",
    "               log_scale=False,\n",
    "               order=1)\n",
    "\n",
    "# residuals maximum price\n",
    "plot_residuals(ax=axs[3], \n",
    "               y_true=y_val.iloc[:,1], \n",
    "               y_pred=pred_val_max_p, \n",
    "               title=\"\", \n",
    "               log_scale=False,\n",
    "               order=1)"
   ]
  },
  {
   "cell_type": "markdown",
   "metadata": {},
   "source": [
    "### D) Predictions test data"
   ]
  },
  {
   "cell_type": "code",
   "execution_count": 32,
   "metadata": {},
   "outputs": [
    {
     "name": "stdout",
     "output_type": "stream",
     "text": [
      "Sum weights: 1.0\n",
      "[Pipeline] ...... (step 1 of 2) Processing preprocessor, total=   0.1s\n",
      "[Pipeline] ......... (step 2 of 2) Processing regressor, total=   0.0s\n",
      "Sum weights: 1.0\n",
      "[Pipeline] ...... (step 1 of 2) Processing preprocessor, total=   0.2s\n",
      "[Pipeline] ......... (step 2 of 2) Processing regressor, total=   0.0s\n"
     ]
    }
   ],
   "source": [
    "# train your final model on all data with best parameters \n",
    "\n",
    "# 1) min price\n",
    "model_min_p_final = SVR(\n",
    "    tol = 0.0001,\n",
    "    shrinking = False,\n",
    "    kernel = 'rbf',\n",
    "    gamma = 'scale',\n",
    "    epsilon = 0.001,\n",
    "    degree = 5,\n",
    "    coef0 = 0.25,\n",
    "    C = 1\n",
    ")\n",
    "\n",
    "# 2)  min price\n",
    "model_max_p_final = SVR(\n",
    "    tol = 0.0001,\n",
    "    shrinking = False,\n",
    "    kernel = 'rbf',\n",
    "    gamma = 'scale',\n",
    "    epsilon = 0.001,\n",
    "    degree = 5,\n",
    "    coef0 = 0.25,\n",
    "    C = 1\n",
    ")\n",
    "\n",
    "\n",
    "# add to pipeline\n",
    "\n",
    "# 1) min price\n",
    "pipeline_min_p_final = Pipeline(memory=None,\n",
    "              steps=[('preprocessor', preprocessor),\n",
    "                     ('regressor', model_min_p_final)],\n",
    "              verbose=True)\n",
    "\n",
    "# 2) min price\n",
    "pipeline_max_p_final = Pipeline(memory=None,\n",
    "              steps=[('preprocessor', preprocessor),\n",
    "                     ('regressor', model_max_p_final)],\n",
    "              verbose=True)\n",
    "\n",
    "# again add transformer for target variable\n",
    "\n",
    "# 1) min price\n",
    "pipeline_min_p = TransformedTargetRegressor(regressor=pipeline_min_p_final, \n",
    "                                         transformer=transformer_target)\n",
    "# 2) max price\n",
    "pipeline_max_p = TransformedTargetRegressor(regressor=pipeline_max_p_final, \n",
    "                                         transformer=transformer_target)\n",
    "\n",
    "# fit final model on all training data we have at hand\n",
    "\n",
    "# 1) min price\n",
    "weights_all_train_min_p = weights_samples(y_all_train.iloc[:,0], order=2)\n",
    "pipeline_min_p_final = pipeline_min_p.fit(X_train, y_train.iloc[:,0])\n",
    "\n",
    "# 2) max price\n",
    "weights_all_train_max_p = weights_samples(y_train.iloc[:,1], order=2)\n",
    "pipeline_max_p_final = pipeline_max_p.fit(X_train, y_train.iloc[:,1])"
   ]
  },
  {
   "cell_type": "code",
   "execution_count": 34,
   "metadata": {},
   "outputs": [
    {
     "data": {
      "text/plain": [
       "{'minimum price': 62.614969176082695,\n",
       " 'maximum price': 63.17255011227476,\n",
       " 'total error': 125.78751928835746}"
      ]
     },
     "execution_count": 34,
     "metadata": {},
     "output_type": "execute_result"
    }
   ],
   "source": [
    "# performance on all data where the model was fit one (should be very low)\n",
    "pred_all_train_min_p = pipeline_min_p_final.predict(X_all_train)\n",
    "pred_all_train_max_p = pipeline_max_p_final.predict(X_all_train)\n",
    "\n",
    "# calculate performance \n",
    "pred_all_train = pd.DataFrame([pred_all_train_min_p, pred_all_train_max_p]).T\n",
    "calculate_perf(y_all_train, pred_all_train)"
   ]
  },
  {
   "cell_type": "code",
   "execution_count": 35,
   "metadata": {},
   "outputs": [],
   "source": [
    "# make predictions on test data\n",
    "pred_test_min_p = pipeline_min_p_final.predict(X_test)\n",
    "pred_test_max_p = pipeline_max_p_final.predict(X_test)\n",
    "\n",
    "# submission format\n",
    "submission_format = pd.DataFrame.from_dict(\n",
    " {'ID':df_test['id'].values,\n",
    " 'MIN':pred_test_min_p,\n",
    " 'MAX':pred_test_max_p}).set_index('ID')\n",
    "\n",
    "# write to csv\n",
    "submission_format.to_csv('code\\\\PieterJan\\\\python\\\\output\\\\submission\\\\svm_python.csv' ,\n",
    "                            header=True, index=True, sep=',')"
   ]
  }
 ],
 "metadata": {
  "kernelspec": {
   "display_name": "Python 3",
   "language": "python",
   "name": "python3"
  },
  "language_info": {
   "codemirror_mode": {
    "name": "ipython",
    "version": 3
   },
   "file_extension": ".py",
   "mimetype": "text/x-python",
   "name": "python",
   "nbconvert_exporter": "python",
   "pygments_lexer": "ipython3",
   "version": "3.7.3"
  }
 },
 "nbformat": 4,
 "nbformat_minor": 4
}
