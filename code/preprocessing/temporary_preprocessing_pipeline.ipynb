{
 "cells": [
  {
   "cell_type": "code",
   "execution_count": 1,
   "metadata": {
    "pycharm": {
     "is_executing": false
    }
   },
   "outputs": [],
   "source": [
    "# Import libraries\n",
    "import pandas as pd\n",
    "import numpy as np\n",
    "import seaborn as sns\n",
    "from random import random\n",
    "from sklearn.impute import KNNImputer\n",
    "from sklearn.impute import SimpleImputer\n",
    "from sklearn.ensemble import RandomForestClassifier\n",
    "from sklearn.model_selection import train_test_split\n",
    "from sklearn.metrics import precision_score, recall_score, roc_auc_score, roc_curve\n",
    "from sklearn.metrics import mean_absolute_error\n",
    "import matplotlib\n",
    "import matplotlib.pyplot as plt"
   ]
  },
  {
   "cell_type": "code",
   "execution_count": 10,
   "metadata": {
    "pycharm": {
     "is_executing": false
    }
   },
   "outputs": [],
   "source": [
    "# Load data\n",
    "df_laptops_original = pd.read_csv(r\"../../data/train.csv\", sep=',')\n",
    "df_laptops = df_laptops_original.copy()"
   ]
  },
  {
   "cell_type": "markdown",
   "metadata": {},
   "source": [
    "### Cleaning data and solving missing values"
   ]
  },
  {
   "cell_type": "code",
   "execution_count": 11,
   "metadata": {},
   "outputs": [],
   "source": [
    "# Get all touchscreen values to lower case letters (f.ex: from 'Glossy' --> 'glossy')\n",
    "df_laptops['screen_surface'].replace({'Glossy': 'glossy', 'Matte': 'matte'}, inplace=True)"
   ]
  },
  {
   "cell_type": "code",
   "execution_count": 12,
   "metadata": {
    "pycharm": {
     "is_executing": false
    }
   },
   "outputs": [
    {
     "data": {
      "text/plain": [
       "Index(['screen_surface', 'cpu_details', 'detachable_keyboard', 'gpu', 'os',\n",
       "       'os_details', 'weight'],\n",
       "      dtype='object')"
      ]
     },
     "execution_count": 12,
     "metadata": {},
     "output_type": "execute_result"
    }
   ],
   "source": [
    "# Detect missing values\n",
    "df_laptops.fillna(value=np.nan,inplace=True)\n",
    "null_data = df_laptops[df_laptops.isnull().any(axis=1)]\n",
    "df_laptops.columns[df_laptops.isnull().any()]  # ['screen_surface', 'cpu_details', 'detachable_keyboard', 'gpu', 'os', ...\n",
    "       # 'os_details', 'weight']"
   ]
  },
  {
   "cell_type": "code",
   "execution_count": 13,
   "metadata": {},
   "outputs": [],
   "source": [
    "# Replace NaN screen_surface values with 'glossy' or 'matte' at random\n",
    "for i in range(0,len(df_laptops)):\n",
    "    if type(df_laptops.screen_surface[i]) == float:\n",
    "        if random() >= 0.5:\n",
    "            df_laptops.at[i,'screen_surface'] = 'glossy'\n",
    "        else:\n",
    "            df_laptops.at[i,'screen_surface'] = 'matte'"
   ]
  },
  {
   "cell_type": "code",
   "execution_count": 14,
   "metadata": {},
   "outputs": [],
   "source": [
    "# Replace weight missing values by the median of all the weights\n",
    "df_laptops['weight'] = df_laptops['weight'].fillna(value=df_laptops['weight'].median());"
   ]
  },
  {
   "cell_type": "code",
   "execution_count": 15,
   "metadata": {},
   "outputs": [],
   "source": [
    "# Replace missing OS and OS_details based on brand\n",
    "for i in range(0,len(df_laptops)):\n",
    "    if type(df_laptops.os[i]) == float:        # When the value is missing\n",
    "        if 'apple' in df_laptops.brand[i].lower():\n",
    "            df_laptops.at[i,'os_details'] = 'macOS Catalina'\n",
    "            df_laptops.at[i,'os'] = 'macOS'\n",
    "        else:\n",
    "            df_laptops.at[i,'os_details'] = 'Windows'\n",
    "            df_laptops.at[i,'os'] = 'Windows 10'"
   ]
  },
  {
   "cell_type": "code",
   "execution_count": 16,
   "metadata": {},
   "outputs": [],
   "source": [
    "# df_laptops.describe()\n",
    "# Make index and column arrays to then use in the creation of the new df\n",
    "index_array = np.array(range(0,len(df_laptops)))\n",
    "column_names_array = np.array(list(df_laptops.columns), dtype=object)"
   ]
  },
  {
   "cell_type": "code",
   "execution_count": 17,
   "metadata": {
    "scrolled": true
   },
   "outputs": [],
   "source": [
    "# replace rest of missing values with most frequent simple imputer\n",
    "imp = SimpleImputer(strategy=\"most_frequent\")\n",
    "temp_array = imp.fit_transform(df_laptops)\n",
    "\n",
    "no_nulls_df = pd.DataFrame(data=temp_array[0:,0:],index=index_array, columns=column_names_array)"
   ]
  },
  {
   "cell_type": "code",
   "execution_count": 18,
   "metadata": {},
   "outputs": [],
   "source": [
    "# Last missing values check\n",
    "null_data = no_nulls_df[no_nulls_df.isnull().any(axis=1)]"
   ]
  },
  {
   "cell_type": "code",
   "execution_count": 25,
   "metadata": {},
   "outputs": [],
   "source": [
    "# Remove unimportant columns\n",
    "most_important_features_df = no_nulls_df.copy()\n",
    "most_important_features_df = most_important_features_df.drop(columns = ['id',\n",
    "                                                                        'name',         # Name information is to be found in other columns\n",
    "                                                                        'base_name',    # Base name is partially in brand\n",
    "                                                                        'os',           # OS_details is more important\n",
    "                                                                        'discrete_gpu', # Information contained in GPU information\n",
    "                                                                        'cpu_details']) # Only CPU column is good"
   ]
  },
  {
   "cell_type": "code",
   "execution_count": 20,
   "metadata": {},
   "outputs": [],
   "source": [
    "# One-hot encoding\n",
    "temp_df = most_important_features_df\n",
    "# df_brand = pd.DataFrame({'brand':list(temp_df.brand.unique())})\n",
    "\n",
    "# Encode glossy and matte as 1 and 0 respectively\n",
    "for i in range(0,len(temp_df)):\n",
    "    if temp_df.screen_surface[i] == 'glossy':\n",
    "        temp_df.at[i,'screen_surface'] = 1\n",
    "    else:\n",
    "        temp_df.at[i,'screen_surface'] = 0\n",
    "\n",
    "# pd.get_dummies(df_brand,prefix=['brand'])\n",
    "brand_df = pd.get_dummies(temp_df['brand'],prefix='brand')\n",
    "cpu_df = pd.get_dummies(temp_df['cpu'],prefix='cpu')\n",
    "gpu_df = pd.get_dummies(temp_df['gpu'],prefix='gpu')\n",
    "os_df = pd.get_dummies(temp_df['os_details'],prefix='os_details')"
   ]
  },
  {
   "cell_type": "code",
   "execution_count": 21,
   "metadata": {},
   "outputs": [],
   "source": [
    "final_df = pd.concat([brand_df, cpu_df, gpu_df, os_df, temp_df], axis=1)"
   ]
  },
  {
   "cell_type": "code",
   "execution_count": 24,
   "metadata": {},
   "outputs": [],
   "source": [
    "# Drop unnesecary columns\n",
    "final_df = final_df.drop(['brand', 'cpu', 'gpu', 'os_details'], axis=1)\n",
    "\n",
    "# Write final df to csv\n",
    "final_df.to_csv(r'../../data/preprocessed_data.csv', index = False)"
   ]
  }
 ],
 "metadata": {
  "kernelspec": {
   "display_name": "Python 3",
   "language": "python",
   "name": "python3"
  },
  "language_info": {
   "codemirror_mode": {
    "name": "ipython",
    "version": 3
   },
   "file_extension": ".py",
   "mimetype": "text/x-python",
   "name": "python",
   "nbconvert_exporter": "python",
   "pygments_lexer": "ipython3",
   "version": "3.7.6"
  }
 },
 "nbformat": 4,
 "nbformat_minor": 4
}
